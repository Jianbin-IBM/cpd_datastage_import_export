{
 "cells": [
  {
   "cell_type": "markdown",
   "id": "4fd2c050-c9bc-4a18-b3e3-337dfb8b2de6",
   "metadata": {},
   "source": [
    "# Demo code to import to a new project from a zip file\n",
    "\n",
    "Process\n",
    "1. If prj exists, delete prj\n",
    "2. create a new prj, then import \"export prj name\"+_ds_wp_prj.zip to new prj"
   ]
  },
  {
   "cell_type": "code",
   "execution_count": 1,
   "id": "4864c7a6-e5da-40e0-88ad-49af13dd7cac",
   "metadata": {},
   "outputs": [],
   "source": [
    "import sys\n",
    "import os\n",
    "import yaml\n",
    "import subprocess"
   ]
  },
  {
   "cell_type": "code",
   "execution_count": 2,
   "id": "7148aa19-87b9-49a5-bf91-d2cfea6d7e06",
   "metadata": {},
   "outputs": [],
   "source": [
    "# point to a local file with credentials. It is not synced to git.\n",
    "CONFIG_FILE = \"cpd484_jb_import.yaml\""
   ]
  },
  {
   "cell_type": "code",
   "execution_count": 3,
   "id": "2cf25cf3-9e26-4b96-8dd7-4ae69daf0c40",
   "metadata": {},
   "outputs": [],
   "source": [
    "# Load parameters from the YAML file\n",
    "with open(CONFIG_FILE, 'r') as file:\n",
    "    config = yaml.safe_load(file)\n",
    "\n",
    "DSJOB_URL = config['url']\n",
    "DSJOB_USER = config['user']\n",
    "DSJOB_PWD = config['password']\n",
    "EXPORT_PRJ_NAME = config['export_prj_name']\n",
    "EXPORT_ZIP_NAME = EXPORT_PRJ_NAME+\"_ds_wp_prj.zip\"\n",
    "IMPORT_PRJ_NAME = config['import_prj_name']"
   ]
  },
  {
   "cell_type": "code",
   "execution_count": 4,
   "id": "d636aa62-b312-4682-99c1-68cebf1cfdc3",
   "metadata": {},
   "outputs": [
    {
     "name": "stdout",
     "output_type": "stream",
     "text": [
      "env: CPDCTL_ENABLE_DSJOB=true\n",
      "env: CPDCTL_ENABLE_DATASTAGE=true\n",
      "env: CPDCTL_ENABLE_VOLUMES=1\n",
      "true\n",
      "true\n",
      "1\n"
     ]
    }
   ],
   "source": [
    "# Enable dsjob\n",
    "%env CPDCTL_ENABLE_DSJOB=true\n",
    "%env CPDCTL_ENABLE_DATASTAGE=true\n",
    "%env CPDCTL_ENABLE_VOLUMES=1\n",
    "!echo $CPDCTL_ENABLE_DSJOB\n",
    "!echo $CPDCTL_ENABLE_DATASTAGE\n",
    "!echo $CPDCTL_ENABLE_VOLUMES"
   ]
  },
  {
   "cell_type": "code",
   "execution_count": 5,
   "id": "452f21f2-6fb8-4fe6-b787-5507fad1d4b9",
   "metadata": {},
   "outputs": [
    {
     "name": "stdout",
     "output_type": "stream",
     "text": [
      "Switched to profile \"CP4D-profile\".\n"
     ]
    }
   ],
   "source": [
    "# Configure cpdctl with the parameters\n",
    "!cpdctl config user set CP4D-user --username \"$DSJOB_USER\" --password \"$DSJOB_PWD\"\n",
    "!cpdctl config profile set CP4D-profile --url \"$DSJOB_URL\" --user CP4D-user\n",
    "!cpdctl config profile use CP4D-profile"
   ]
  },
  {
   "cell_type": "code",
   "execution_count": 6,
   "id": "7e73c4c1-41cf-4980-b461-6b1b19aaab49",
   "metadata": {},
   "outputs": [
    {
     "name": "stdout",
     "output_type": "stream",
     "text": [
      "...\n",
      "Business Catalog Enrichment\n",
      "GDPR Lineage\n",
      "DataStage Import\n",
      "test_python_pipeline\n",
      "DQ Definition_Rules\n",
      "Multicloud Data Integration L3 Tech Lab\n",
      "Data Replication Lab\n",
      "Auto Policy Risk\n",
      "evaluate-an-ml-model\n",
      "Data-Science-and-MLOps\n",
      "\n",
      "Total: 10 Projects\n",
      "\n",
      "Status code = 0\n"
     ]
    }
   ],
   "source": [
    "# list all projects\n",
    "!cpdctl dsjob list-projects"
   ]
  },
  {
   "cell_type": "code",
   "execution_count": 7,
   "id": "c92a7b1e-9634-4783-92ed-987c5c451f19",
   "metadata": {},
   "outputs": [
    {
     "name": "stdout",
     "output_type": "stream",
     "text": [
      "Return Code: 0\n",
      "Output: ...\n",
      "ID                                     Name               Created                    Description                                  Type\n",
      "83d06338-e4de-4697-8819-59262052f29f   DataStage Import   2024-05-30T06:20:39.553Z   This Project is created using dsjob plugin   cpd\n",
      "\n",
      "The project exists.\n",
      "...\n",
      "{\n",
      "    \"StatusCode\": 204,\n",
      "    \"Headers\": {\n",
      "        \"Date\": [\n",
      "            \"Thu, 30 May 2024 06:49:46 GMT\"\n",
      "        ],\n",
      "        \"Server\": [\n",
      "            \"---\"\n",
      "        ],\n",
      "        \"Set-Cookie\": [\n",
      "            \"2ac1df5a53d05af1ed3c0e46006c8757=b3bc268910522097895d67f7d3a9288f; path=/; HttpOnly; Secure; SameSite=Lax\"\n",
      "        ],\n",
      "        \"Strict-Transport-Security\": [\n",
      "            \"max-age=31536000; includeSubDomains\",\n",
      "            \"max-age=31536000; includeSubDomains\"\n",
      "        ],\n",
      "        \"X-Frame-Options\": [\n",
      "            \"SAMEORIGIN\"\n",
      "        ]\n",
      "    },\n",
      "    \"Result\": null,\n",
      "    \"RawResult\": null\n",
      "}\n",
      "\n"
     ]
    }
   ],
   "source": [
    "# check if import prj exists or not\n",
    "#!cpdctl project list --name \"$IMPORT_PRJ_NAME\" --match exact\n",
    "\n",
    "import subprocess\n",
    "\n",
    "# Execute the command\n",
    "command = f'cpdctl project list --name \"{IMPORT_PRJ_NAME}\" --match exact'\n",
    "result = subprocess.run(command, shell=True, capture_output=True, text=True)\n",
    "\n",
    "# Capture the return code and output\n",
    "return_code = result.returncode\n",
    "output = result.stdout\n",
    "\n",
    "# Print the return code and output\n",
    "print(\"Return Code:\", return_code)\n",
    "print(\"Output:\", output)\n",
    "\n",
    "# Check if the output contains \"Nothing to show\"\n",
    "if \"Nothing to show\" in output:\n",
    "    print(\"The project does not exist or there was an error.\")\n",
    "\n",
    "else:\n",
    "    print(\"The project exists.\")\n",
    "    # if exist delete project\n",
    "    !cpdctl dsjob delete-project --project \"$IMPORT_PRJ_NAME\"\n"
   ]
  },
  {
   "cell_type": "code",
   "execution_count": 8,
   "id": "52e54ede-9faf-435b-9177-ece22cc49935",
   "metadata": {},
   "outputs": [
    {
     "name": "stdout",
     "output_type": "stream",
     "text": [
      "fd46b0f1-8489-4393-bdae-559bb24ea53f\n"
     ]
    }
   ],
   "source": [
    "# Create prj\n",
    "!cpdctl dsjob create-project --name \"$IMPORT_PRJ_NAME\" "
   ]
  },
  {
   "cell_type": "code",
   "execution_count": 12,
   "id": "fd365f56-e420-4291-a6e0-14c134c5e266",
   "metadata": {},
   "outputs": [
    {
     "name": "stdout",
     "output_type": "stream",
     "text": [
      "...\n",
      "2024-05-30 16:57:38: Waiting until import finishes, import id: 50e61d80-6ce6-4a63-b9c6-7bf03d1854f1\n",
      "2024-05-30 16:57:49: Project import status: completed,  total: 3, completed: 1, failed: 0, skipped: 2.\n",
      "Information:\n",
      "\tConnection: Data Virtualization,\t  New connection is exactly the same as an existing connection, resource is not updated.\n",
      "\n",
      "\tConnection: Data Warehouse,\t  New connection is exactly the same as an existing connection, resource is not updated.\n",
      "\n",
      "\n",
      "Status code =  0\n"
     ]
    }
   ],
   "source": [
    "# missing 2 connections, one is to local DB2 connection, one is a storage volume connection\n",
    "!cpdctl dsjob import-zip --project \"$IMPORT_PRJ_NAME\" --file-name \"$EXPORT_ZIP_NAME\" --conflict-resolution replace --wait 200 "
   ]
  },
  {
   "cell_type": "code",
   "execution_count": null,
   "id": "ecf67278-6f0d-432f-ba8b-729ab843f387",
   "metadata": {},
   "outputs": [],
   "source": []
  }
 ],
 "metadata": {
  "kernelspec": {
   "display_name": "Python 3 (ipykernel)",
   "language": "python",
   "name": "python3"
  },
  "language_info": {
   "codemirror_mode": {
    "name": "ipython",
    "version": 3
   },
   "file_extension": ".py",
   "mimetype": "text/x-python",
   "name": "python",
   "nbconvert_exporter": "python",
   "pygments_lexer": "ipython3",
   "version": "3.10.11"
  }
 },
 "nbformat": 4,
 "nbformat_minor": 5
}
