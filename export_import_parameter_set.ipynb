{
 "cells": [
  {
   "cell_type": "markdown",
   "id": "439c097b-16f1-431e-9ac2-5979e23bbe50",
   "metadata": {},
   "source": [
    "# Demo Code: Export&Import Parameter Sets\n",
    "\n",
    "2 methods below to export and import parameter sets.\n",
    "\n",
    "## Prerequisite\n",
    "Create your own yaml file based on [configuration_template.yaml](./configuration_template.yaml), and modify \"CONFIG_FILE\" below"
   ]
  },
  {
   "cell_type": "code",
   "execution_count": 1,
   "id": "b381f4e2-d16e-4c25-8e6e-f43df60b67e5",
   "metadata": {},
   "outputs": [],
   "source": [
    "import sys\n",
    "import os\n",
    "import yaml\n",
    "import subprocess"
   ]
  },
  {
   "cell_type": "code",
   "execution_count": 2,
   "id": "4a30d92c-2689-4ebe-b298-409992987021",
   "metadata": {},
   "outputs": [],
   "source": [
    "# point to a local file with credentials. It is not synced to git.\n",
    "CONFIG_FILE = \"export_import_parameter_set.yaml\""
   ]
  },
  {
   "cell_type": "code",
   "execution_count": 3,
   "id": "d3bfc677-283b-4f05-9bec-7434e36628b7",
   "metadata": {},
   "outputs": [
    {
     "name": "stdout",
     "output_type": "stream",
     "text": [
      "EXPORT_PRJ_NAME= Multicloud Data Integration L3 Tech Lab\n",
      "IMPORT_PRJ_NAME= DataStage Import\n"
     ]
    }
   ],
   "source": [
    "# Load parameters from the YAML file\n",
    "with open(CONFIG_FILE, 'r') as file:\n",
    "    config = yaml.safe_load(file)\n",
    "\n",
    "# print(config)\n",
    "DSJOB_URL = config['url']\n",
    "DSJOB_USER = config['user']\n",
    "DSJOB_PWD = config['password']\n",
    "EXPORT_PRJ_NAME = config['export_prj_name']\n",
    "if \"export_zip_name\" in config:\n",
    "    EXPORT_ZIP_NAME = config['export_zip_name']\n",
    "else:\n",
    "    EXPORT_ZIP_NAME = EXPORT_PRJ_NAME+\"_ds_wp_prj.zip\"\n",
    "\n",
    "parameter_sets = config['parameter_sets']\n",
    "\n",
    "IMPORT_PRJ_NAME = config['import_prj_name']\n",
    "print(\"EXPORT_PRJ_NAME=\",EXPORT_PRJ_NAME)\n",
    "print(\"IMPORT_PRJ_NAME=\",IMPORT_PRJ_NAME)"
   ]
  },
  {
   "cell_type": "code",
   "execution_count": 4,
   "id": "d77aef7b-d806-49e3-8b21-643b97eefd9f",
   "metadata": {},
   "outputs": [
    {
     "name": "stdout",
     "output_type": "stream",
     "text": [
      "env: CPDCTL_ENABLE_DSJOB=true\n",
      "env: CPDCTL_ENABLE_DATASTAGE=true\n",
      "env: CPDCTL_ENABLE_VOLUMES=1\n"
     ]
    }
   ],
   "source": [
    "# Enable dsjob\n",
    "%env CPDCTL_ENABLE_DSJOB=true\n",
    "%env CPDCTL_ENABLE_DATASTAGE=true\n",
    "%env CPDCTL_ENABLE_VOLUMES=1"
   ]
  },
  {
   "cell_type": "code",
   "execution_count": 5,
   "id": "bc648f3b-b5c1-44bd-b0eb-617dbd021884",
   "metadata": {},
   "outputs": [
    {
     "name": "stdout",
     "output_type": "stream",
     "text": [
      "Switched to profile \"CP4D-profile\".\n"
     ]
    }
   ],
   "source": [
    "# Configure cpdctl with the parameters\n",
    "!cpdctl config user set CP4D-user --username \"$DSJOB_USER\" --password \"$DSJOB_PWD\"\n",
    "!cpdctl config profile set CP4D-profile --url \"$DSJOB_URL\" --user CP4D-user\n",
    "!cpdctl config profile use CP4D-profile"
   ]
  },
  {
   "cell_type": "code",
   "execution_count": 6,
   "id": "787bbb36-6c76-43f7-a0d5-873053a58b58",
   "metadata": {},
   "outputs": [
    {
     "name": "stdout",
     "output_type": "stream",
     "text": [
      "...\n",
      "DataStage Import\n",
      "test_python\n",
      "Multicloud Data Integration L3 Tech Lab\n",
      "test_python_pipeline\n",
      "\n",
      "Total: 4 Projects\n",
      "\n",
      "Status code = 0\n"
     ]
    }
   ],
   "source": [
    "# list all projects\n",
    "!cpdctl dsjob list-projects"
   ]
  },
  {
   "cell_type": "markdown",
   "id": "6658c148-9bcc-4e50-ab23-4b1dfddeb1ab",
   "metadata": {},
   "source": [
    "## Method 1: Using **\"export-paramset\"**  and  **\"import-zip\"** command\n",
    "This method will export and import specified parameter sets' all values and their value sets with a ZIP file."
   ]
  },
  {
   "cell_type": "code",
   "execution_count": 7,
   "id": "426f034d-4ee2-4d88-bd34-9babd9ba652a",
   "metadata": {},
   "outputs": [
    {
     "name": "stdout",
     "output_type": "stream",
     "text": [
      "cpdctl dsjob export-paramset --project \"Multicloud Data Integration L3 Tech Lab\" --name \"JB_parameter_set\" --name \"paraset2\" --file-name \"own_name.zip\"\n"
     ]
    }
   ],
   "source": [
    "# Format the string for the export-paramset\n",
    "parameter_sets_str=''\n",
    "if len(parameter_sets)>0:\n",
    "    parameter_sets_str = ' '.join(f'--name \"{parameter_set}\"' for parameter_set in parameter_sets)\n",
    "\n",
    "cmd_str = f'cpdctl dsjob export-paramset --project \"{EXPORT_PRJ_NAME}\" \\\n",
    "{parameter_sets_str} --file-name \"{EXPORT_ZIP_NAME}\"'\n",
    "\n",
    "print(cmd_str)"
   ]
  },
  {
   "cell_type": "code",
   "execution_count": 8,
   "id": "4789d39d-a8f9-4e4c-91b1-b115668cd899",
   "metadata": {},
   "outputs": [
    {
     "name": "stdout",
     "output_type": "stream",
     "text": [
      "...\n",
      "\n",
      "Status code = 0\n"
     ]
    },
    {
     "data": {
      "text/plain": [
       "0"
      ]
     },
     "execution_count": 8,
     "metadata": {},
     "output_type": "execute_result"
    }
   ],
   "source": [
    "os.system(cmd_str)"
   ]
  },
  {
   "cell_type": "markdown",
   "id": "609977fe-aa01-4685-a071-978811c07b88",
   "metadata": {},
   "source": [
    "### Import to a project with **import-zip**\n",
    "\n",
    "Connection between development and production environment are usually different. Hence we usually skip \"connection\" with \"--skip-on-replace connection\" flag."
   ]
  },
  {
   "cell_type": "code",
   "execution_count": 9,
   "id": "55ed03c5-ca61-42e4-a1da-bc6828f8587e",
   "metadata": {},
   "outputs": [
    {
     "name": "stdout",
     "output_type": "stream",
     "text": [
      "...\n",
      "2024-06-03 21:21:20: Waiting until import finishes, import id: a9a0440f-8a10-459c-9bfc-f2dd7077b678\n",
      "2024-06-03 21:21:31: Project import status: completed,  total: 2, completed: 0, failed: 0, skipped: 2.\n",
      "Information:\n",
      "\tParameter Set: JB_parameter_set,\t  New parameters are identical to those in the existing parameter set `JB_parameter_set`, flow is updated to reference `JB_parameter_set`.\n",
      "\n",
      "\tParameter Set: paraset2,\t  New parameters are identical to those in the existing parameter set `paraset2`, flow is updated to reference `paraset2`.\n",
      "\n",
      "\n",
      "Status code =  0\n"
     ]
    }
   ],
   "source": [
    "!cpdctl dsjob import-zip --project \"$IMPORT_PRJ_NAME\" --file-name \"$EXPORT_ZIP_NAME\" --conflict-resolution replace --wait 200 "
   ]
  },
  {
   "cell_type": "markdown",
   "id": "534b6b91-dc8a-4fff-a1cf-89fe12824ff1",
   "metadata": {},
   "source": [
    "## Method 2: Using **\"get-paramset\"**, **\"create-paramset\"** and **\"update-paramset\"** command\n",
    "**\"get-paramset\"** can ONLY ONE  specified parameter set and its all value sets to a JSON file"
   ]
  },
  {
   "cell_type": "code",
   "execution_count": 10,
   "id": "58c3d90e-e71c-4e43-be66-24cb665abeef",
   "metadata": {},
   "outputs": [
    {
     "name": "stdout",
     "output_type": "stream",
     "text": [
      "...\n",
      "ParamSet: JB_parameter_set(8cd7157f-9ffc-4e46-af64-405d8622d126) \n",
      "Name                           |Type  |Default|Prompt\n",
      "----                           |----  |-------|------\n",
      "$APT_AGGREGATOR_NULLABLE_OUTPUT|enum  |True   |Aggregator nullable output\n",
      "JB_para1                       |string|hello  |hello\n",
      "\n",
      "ValueSet: value_set1\n",
      "Name                           |Default\n",
      "----                           |-------\n",
      "$APT_AGGREGATOR_NULLABLE_OUTPUT|True\n",
      "JB_para1                       |hello\n",
      "\n",
      "ValueSet: value_set2\n",
      "Name                           |Default\n",
      "----                           |-------\n",
      "$APT_AGGREGATOR_NULLABLE_OUTPUT|False\n",
      "JB_para1                       |world\n",
      "\n",
      "Status code = 0\n",
      "{\n",
      "    \"parameter_set\": {\n",
      "        \"description\": \"\",\n",
      "        \"name\": \"JB_parameter_set\",\n",
      "        \"parameters\": [\n",
      "            {\n",
      "                \"name\": \"$APT_AGGREGATOR_NULLABLE_OUTPUT\",\n",
      "                \"prompt\": \"Aggregator nullable output\",\n",
      "                \"subtype\": \"\",\n",
      "                \"type\": \"enum\",\n",
      "                \"valid_values\": [\n",
      "                    \"True\",\n",
      "                    \"False\"\n",
      "                ],\n",
      "                \"value\": \"True\"\n",
      "            },\n",
      "            {\n",
      "                \"name\": \"JB_para1\",\n",
      "                \"prompt\": \"hello\",\n",
      "                \"subtype\": \"\",\n",
      "                \"type\": \"string\",\n",
      "                \"value\": \"hello\"\n",
      "            }\n",
      "        ],\n",
      "        \"value_sets\": [\n",
      "            {\n",
      "                \"name\": \"value_set1\",\n",
      "                \"values\": [\n",
      "                    {\n",
      "                        \"name\": \"$APT_AGGREGATOR_NULLABLE_OUTPUT\",\n",
      "                        \"value\": \"True\"\n",
      "                    },\n",
      "                    {\n",
      "                        \"name\": \"JB_para1\",\n",
      "                        \"value\": \"hello\"\n",
      "                    }\n",
      "                ]\n",
      "            },\n",
      "            {\n",
      "                \"name\": \"value_set2\",\n",
      "                \"values\": [\n",
      "                    {\n",
      "                        \"name\": \"$APT_AGGREGATOR_NULLABLE_OUTPUT\",\n",
      "                        \"value\": \"False\"\n",
      "                    },\n",
      "                    {\n",
      "                        \"name\": \"JB_para1\",\n",
      "                        \"value\": \"world\"\n",
      "                    }\n",
      "                ]\n",
      "            }\n",
      "        ]\n",
      "    }\n",
      "}"
     ]
    }
   ],
   "source": [
    "#cpdctl dsjob create-paramset {--project PROJECT | --project-id PROJID} --name NAME [--description DESCRIPTION] [--file-name FILENAME] [--param type:name:[value]...]\n",
    "!cpdctl dsjob get-paramset --project \"$EXPORT_PRJ_NAME\" --name \"JB_parameter_set\" --file-name \"JB_parameter_set.json\"\n",
    "!cat \"JB_parameter_set.json\""
   ]
  },
  {
   "cell_type": "code",
   "execution_count": 11,
   "id": "ce9f9e85-7f2a-4186-9db3-06c53c594248",
   "metadata": {},
   "outputs": [
    {
     "name": "stdout",
     "output_type": "stream",
     "text": [
      "[\n",
      "  {\n",
      "    \"id\": \"8beac27c-3f92-4457-88b4-013d438b0d66\",\n",
      "    \"name\": \"paraset2\",\n",
      "    \"created_at\": \"2024-06-03T11:15:04.000Z\",\n",
      "    \"updated_at\": \"2024-06-03T11:15:04Z\"\n",
      "  },\n",
      "  {\n",
      "    \"id\": \"6c546320-504c-422b-831b-a8531a2e8fe2\",\n",
      "    \"name\": \"JB_parameter_set\",\n",
      "    \"created_at\": \"2024-06-03T11:15:04.000Z\",\n",
      "    \"updated_at\": \"2024-06-03T11:20:59Z\"\n",
      "  }\n",
      "]\n"
     ]
    }
   ],
   "source": [
    "!cpdctl dsjob list-paramsets --project \"$IMPORT_PRJ_NAME\" --output json"
   ]
  },
  {
   "cell_type": "code",
   "execution_count": 12,
   "id": "e1a4a528-5892-4240-bafe-18036e38553a",
   "metadata": {},
   "outputs": [
    {
     "name": "stdout",
     "output_type": "stream",
     "text": [
      "...\n",
      "Deleted Paramset:  JB_parameter_set\n",
      "\n",
      "Status code =  0\n"
     ]
    }
   ],
   "source": [
    "# try  create, if failed when paramset exist, try update\n",
    "!cpdctl dsjob delete-paramset --project \"$IMPORT_PRJ_NAME\" --name \"JB_parameter_set\""
   ]
  },
  {
   "cell_type": "code",
   "execution_count": 13,
   "id": "debdbdbf-0756-447d-b95c-5bf8749e8c93",
   "metadata": {},
   "outputs": [
    {
     "name": "stdout",
     "output_type": "stream",
     "text": [
      "...\n",
      "20edab71-016a-4cbd-9034-bf3dc1144bcc\n",
      "\n",
      "Status code = 0\n"
     ]
    }
   ],
   "source": [
    "# try  create, if failed when paramset exist, try update\n",
    "!cpdctl dsjob create-paramset --project \"$IMPORT_PRJ_NAME\" --name \"JB_parameter_set\" --file-name \"JB_parameter_set.json\""
   ]
  },
  {
   "cell_type": "code",
   "execution_count": 14,
   "id": "256ba440-8078-4768-b014-59d00ceb4e25",
   "metadata": {},
   "outputs": [
    {
     "name": "stdout",
     "output_type": "stream",
     "text": [
      "...\n",
      "ParameterSet updated for Paramset ID:  20edab71-016a-4cbd-9034-bf3dc1144bcc\n",
      "\n",
      "Status code = 0\n"
     ]
    }
   ],
   "source": [
    "#cpdctl dsjob create-paramset {--project PROJECT | --project-id PROJID} --name NAME [--description DESCRIPTION] [--file-name FILENAME] [--param type:name:[value]...]\n",
    "!cpdctl dsjob update-paramset --project \"$IMPORT_PRJ_NAME\" --name \"JB_parameter_set\" --file-name \"JB_parameter_set.json\""
   ]
  }
 ],
 "metadata": {
  "kernelspec": {
   "display_name": "Python 3 (ipykernel)",
   "language": "python",
   "name": "python3"
  },
  "language_info": {
   "codemirror_mode": {
    "name": "ipython",
    "version": 3
   },
   "file_extension": ".py",
   "mimetype": "text/x-python",
   "name": "python",
   "nbconvert_exporter": "python",
   "pygments_lexer": "ipython3",
   "version": "3.10.11"
  }
 },
 "nbformat": 4,
 "nbformat_minor": 5
}
