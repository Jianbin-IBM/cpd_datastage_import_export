{
 "cells": [
  {
   "cell_type": "markdown",
   "id": "439c097b-16f1-431e-9ac2-5979e23bbe50",
   "metadata": {},
   "source": [
    "# Demo Code: Export Project's DataStage&Pipeline to a zip file\n",
    "\n",
    "## Process\n",
    "1. Create your own yaml file based on [configuration_template.yaml](./configuration_template.yaml), and modify \"CONFIG_FILE\" below\n",
    "2. Existing zip file will be overwritten.\n",
    "\n",
    "## Please note the differences in the below commands:\n",
    "\n",
    "### About Export:\n",
    "1. \"cpdctl dsjob export\" is to export **all types of contents** under a project\n",
    "2. \"cpdctl dsjob export-project\" is **only to export DataStage&Pipeline related contents** under a project\n",
    "3. \"cpdctl dsjob export-zip\" is to export specific DataStage and/or Pipeline assets under a project\n",
    "   \n",
    "### About Import:\n",
    "1. \"cpdctl dsjob import\" is to import **all types of contents** under a project, which must go to a newly created project.\n",
    "3. \"cpdctl dsjob import-zip\" can be used to import both from  \"cpdctl dsjob export-project\" and \"cpdctl dsjob export-zip\" to a new or existing project."
   ]
  },
  {
   "cell_type": "code",
   "execution_count": 1,
   "id": "b381f4e2-d16e-4c25-8e6e-f43df60b67e5",
   "metadata": {},
   "outputs": [],
   "source": [
    "import sys\n",
    "import os\n",
    "import yaml\n",
    "import subprocess"
   ]
  },
  {
   "cell_type": "code",
   "execution_count": 2,
   "id": "4a30d92c-2689-4ebe-b298-409992987021",
   "metadata": {},
   "outputs": [],
   "source": [
    "# point to a local file with credentials. It is not synced to git.\n",
    "CONFIG_FILE = \"cpd484_jb_export.yaml\""
   ]
  },
  {
   "cell_type": "code",
   "execution_count": 3,
   "id": "d3bfc677-283b-4f05-9bec-7434e36628b7",
   "metadata": {},
   "outputs": [],
   "source": [
    "# Load parameters from the YAML file\n",
    "with open(CONFIG_FILE, 'r') as file:\n",
    "    config = yaml.safe_load(file)\n",
    "\n",
    "DSJOB_URL = config['url']\n",
    "DSJOB_USER = config['user']\n",
    "DSJOB_PWD = config['password']\n",
    "EXPORT_PRJ_NAME = config['export_prj_name']\n",
    "if \"export_zip_name\" in config:\n",
    "    EXPORT_ZIP_NAME = config['export_zip_name']\n",
    "else:\n",
    "    EXPORT_ZIP_NAME = EXPORT_PRJ_NAME+\"_ds_wp_prj.zip\""
   ]
  },
  {
   "cell_type": "code",
   "execution_count": 4,
   "id": "d77aef7b-d806-49e3-8b21-643b97eefd9f",
   "metadata": {},
   "outputs": [
    {
     "name": "stdout",
     "output_type": "stream",
     "text": [
      "env: CPDCTL_ENABLE_DSJOB=true\n",
      "env: CPDCTL_ENABLE_DATASTAGE=true\n",
      "env: CPDCTL_ENABLE_VOLUMES=1\n",
      "true\n",
      "true\n",
      "1\n"
     ]
    }
   ],
   "source": [
    "# Enable dsjob\n",
    "%env CPDCTL_ENABLE_DSJOB=true\n",
    "%env CPDCTL_ENABLE_DATASTAGE=true\n",
    "%env CPDCTL_ENABLE_VOLUMES=1\n",
    "!echo $CPDCTL_ENABLE_DSJOB\n",
    "!echo $CPDCTL_ENABLE_DATASTAGE\n",
    "!echo $CPDCTL_ENABLE_VOLUMES"
   ]
  },
  {
   "cell_type": "code",
   "execution_count": 5,
   "id": "bc648f3b-b5c1-44bd-b0eb-617dbd021884",
   "metadata": {},
   "outputs": [
    {
     "name": "stdout",
     "output_type": "stream",
     "text": [
      "Switched to profile \"CP4D-profile\".\n"
     ]
    }
   ],
   "source": [
    "# Configure cpdctl with the parameters\n",
    "!cpdctl config user set CP4D-user --username \"$DSJOB_USER\" --password \"$DSJOB_PWD\"\n",
    "!cpdctl config profile set CP4D-profile --url \"$DSJOB_URL\" --user CP4D-user\n",
    "!cpdctl config profile use CP4D-profile"
   ]
  },
  {
   "cell_type": "code",
   "execution_count": 6,
   "id": "787bbb36-6c76-43f7-a0d5-873053a58b58",
   "metadata": {},
   "outputs": [
    {
     "name": "stdout",
     "output_type": "stream",
     "text": [
      "...\n",
      "DataStage Import\n",
      "Business Catalog Enrichment\n",
      "GDPR Lineage\n",
      "test_python_pipeline\n",
      "DQ Definition_Rules\n",
      "Multicloud Data Integration L3 Tech Lab\n",
      "Data Replication Lab\n",
      "Auto Policy Risk\n",
      "evaluate-an-ml-model\n",
      "Data-Science-and-MLOps\n",
      "\n",
      "Total: 10 Projects\n",
      "\n",
      "Status code = 0\n"
     ]
    }
   ],
   "source": [
    "# list all projects\n",
    "!cpdctl dsjob list-projects"
   ]
  },
  {
   "cell_type": "code",
   "execution_count": 7,
   "id": "4789d39d-a8f9-4e4c-91b1-b115668cd899",
   "metadata": {},
   "outputs": [
    {
     "name": "stdout",
     "output_type": "stream",
     "text": [
      "...\n",
      "2024-05-30 20:46:06: Waiting until export finishes, Status: started\n",
      "2024-05-30 20:46:17: Project export status: completed, total: 5, completed: 5, failed: 0, skipped: 0.\n",
      "\n",
      "Status code =  0\n"
     ]
    }
   ],
   "source": [
    "# Multicloud Data Integration L3 Tech Lab\n",
    "!cpdctl dsjob export-project --project \"$EXPORT_PRJ_NAME\" --file-name \"$EXPORT_ZIP_NAME\" --wait -1"
   ]
  },
  {
   "cell_type": "code",
   "execution_count": 8,
   "id": "000f0b86-aa37-473c-a3cb-020cee641113",
   "metadata": {},
   "outputs": [],
   "source": [
    "# it seems no need on below command\n",
    "# !cpdctl dsjob save-export-project --project \"$EXPORT_PRJ_NAME\"  --file-name \"$EXPORT_ZIP_NAME\""
   ]
  },
  {
   "cell_type": "code",
   "execution_count": 9,
   "id": "0bd02688-9651-4d50-a80e-781dd616940d",
   "metadata": {},
   "outputs": [
    {
     "name": "stdout",
     "output_type": "stream",
     "text": [
      "LICENSE\n",
      "Multicloud Data Integration L3 Tech Lab_ds_wp_prj.zip\n",
      "Multicloud Data Integration L3 Tech Lab_whl_prj.zip\n",
      "configuration_template.yaml\n",
      "cpd484_jb_export.yaml\n",
      "cpd484_jb_export_assets.yaml\n",
      "cpd484_jb_import.yaml\n",
      "export_assets.ipynb\n",
      "export_ds_wp_project.ipynb\n",
      "export_whole_project.ipynb\n",
      "export_whole_project.sh\n",
      "import_whole_project.ipynb\n",
      "import_zip_2_project.ipynb\n",
      "readme.MD\n"
     ]
    }
   ],
   "source": [
    "ls"
   ]
  }
 ],
 "metadata": {
  "kernelspec": {
   "display_name": "Python 3 (ipykernel)",
   "language": "python",
   "name": "python3"
  },
  "language_info": {
   "codemirror_mode": {
    "name": "ipython",
    "version": 3
   },
   "file_extension": ".py",
   "mimetype": "text/x-python",
   "name": "python",
   "nbconvert_exporter": "python",
   "pygments_lexer": "ipython3",
   "version": "3.10.11"
  }
 },
 "nbformat": 4,
 "nbformat_minor": 5
}
