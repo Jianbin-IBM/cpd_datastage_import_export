{
 "cells": [
  {
   "cell_type": "markdown",
   "id": "439c097b-16f1-431e-9ac2-5979e23bbe50",
   "metadata": {},
   "source": [
    "# Demo Code: Export&Import a whole project \n",
    "\n",
    "There are 3 methods shown below to Export&Import a whole project. Only Method 1 is recommended.\n",
    "\n",
    "## Prerequisite\n",
    "Create your own yaml based on [configuration_template.yaml](./configuration_template.yaml), and modify \"CONFIG_FILE\" below."
   ]
  },
  {
   "cell_type": "code",
   "execution_count": 9,
   "id": "4a30d92c-2689-4ebe-b298-409992987021",
   "metadata": {},
   "outputs": [],
   "source": [
    "# point to a local file with credentials. It is not synced to git.\n",
    "CONFIG_FILE = \"export_import_whole_project.yaml\""
   ]
  },
  {
   "cell_type": "code",
   "execution_count": 10,
   "id": "d3bfc677-283b-4f05-9bec-7434e36628b7",
   "metadata": {},
   "outputs": [],
   "source": [
    "import sys\n",
    "import os\n",
    "import yaml\n",
    "import subprocess"
   ]
  },
  {
   "cell_type": "code",
   "execution_count": 11,
   "id": "82c383c7-f5c0-479c-93aa-ea98bd82c4bf",
   "metadata": {},
   "outputs": [
    {
     "name": "stdout",
     "output_type": "stream",
     "text": [
      "EXPORT_PRJ_NAME= Multicloud Data Integration L3 Tech Lab\n",
      "IMPORT_PRJ_NAME= DataStage Import\n"
     ]
    }
   ],
   "source": [
    "# Load parameters from the YAML file\n",
    "with open(CONFIG_FILE, 'r') as file:\n",
    "    config = yaml.safe_load(file)\n",
    "\n",
    "DSJOB_URL = config['url']\n",
    "DSJOB_USER = config['user']\n",
    "DSJOB_PWD = config['password']\n",
    "EXPORT_PRJ_NAME = config['export_prj_name']\n",
    "\n",
    "if 'export_zip_name' in config:\n",
    "    EXPORT_ZIP_NAME = config['export_zip_name']\n",
    "else:\n",
    "    EXPORT_ZIP_NAME = EXPORT_PRJ_NAME+\"_whl_prj.zip\"\n",
    "\n",
    "IMPORT_PRJ_NAME = config['import_prj_name']\n",
    "\n",
    "print(\"EXPORT_PRJ_NAME=\",EXPORT_PRJ_NAME)\n",
    "print(\"IMPORT_PRJ_NAME=\",IMPORT_PRJ_NAME)"
   ]
  },
  {
   "cell_type": "code",
   "execution_count": 12,
   "id": "d77aef7b-d806-49e3-8b21-643b97eefd9f",
   "metadata": {},
   "outputs": [
    {
     "name": "stdout",
     "output_type": "stream",
     "text": [
      "env: CPDCTL_ENABLE_DSJOB=true\n",
      "env: CPDCTL_ENABLE_DATASTAGE=true\n",
      "env: CPDCTL_ENABLE_VOLUMES=1\n"
     ]
    }
   ],
   "source": [
    "# Enable dsjob with by settign below env values\n",
    "%env CPDCTL_ENABLE_DSJOB=true\n",
    "%env CPDCTL_ENABLE_DATASTAGE=true\n",
    "%env CPDCTL_ENABLE_VOLUMES=1"
   ]
  },
  {
   "cell_type": "code",
   "execution_count": 13,
   "id": "bc648f3b-b5c1-44bd-b0eb-617dbd021884",
   "metadata": {},
   "outputs": [
    {
     "name": "stdout",
     "output_type": "stream",
     "text": [
      "Switched to profile \"CP4D-profile\".\n"
     ]
    }
   ],
   "source": [
    "# Configure cpdctl with the parameters\n",
    "!cpdctl config user set CP4D-user --username \"$DSJOB_USER\" --password \"$DSJOB_PWD\"\n",
    "!cpdctl config profile set CP4D-profile --url \"$DSJOB_URL\" --user CP4D-user\n",
    "!cpdctl config profile use CP4D-profile"
   ]
  },
  {
   "cell_type": "code",
   "execution_count": 24,
   "id": "787bbb36-6c76-43f7-a0d5-873053a58b58",
   "metadata": {},
   "outputs": [
    {
     "name": "stdout",
     "output_type": "stream",
     "text": [
      "...\n",
      "DataStage Import\n",
      "test_python\n",
      "Multicloud Data Integration L3 Tech Lab\n",
      "test_python_pipeline\n",
      "\n",
      "Total: 4 Projects\n",
      "\n",
      "Status code = 0\n"
     ]
    }
   ],
   "source": [
    "# list all projects\n",
    "!cpdctl dsjob list-projects"
   ]
  },
  {
   "cell_type": "markdown",
   "id": "4b762d2c-e865-4980-ba0d-8fe5370b89f4",
   "metadata": {},
   "source": [
    "## Method 1: Use **\"export-datastage-assets\"** and **\"import-zip\"** command <span style=\"color:red\">--Recommend<span>\n",
    "\n",
    "To do: need to understand what will happen for existing jobs. Likely existing jobs won't be replaced."
   ]
  },
  {
   "cell_type": "code",
   "execution_count": 25,
   "id": "10a51123-903d-4705-b4eb-91d7339335ef",
   "metadata": {},
   "outputs": [
    {
     "name": "stdout",
     "output_type": "stream",
     "text": [
      "...\n",
      "2024-06-03 21:51:27: Waiting until export finishes, Status: started\n",
      "2024-06-03 21:51:38: Project export status: completed, total: 8, completed: 8, failed: 0.\n",
      "status   completed\n",
      "\n",
      "Status code =  0\n"
     ]
    }
   ],
   "source": [
    "# Multicloud Data Integration L3 Tech Lab\n",
    "!cpdctl dsjob export-datastage-assets --project \"$EXPORT_PRJ_NAME\" --file-name \"$EXPORT_ZIP_NAME\" "
   ]
  },
  {
   "cell_type": "code",
   "execution_count": 8,
   "id": "2e278b8f-ff69-429c-90a3-769ad1251d3b",
   "metadata": {},
   "outputs": [
    {
     "name": "stdout",
     "output_type": "stream",
     "text": [
      "2b527970-3327-4e4e-87a0-739a911493ec\n"
     ]
    }
   ],
   "source": [
    "# only when project doesn't exist, create project\n",
    "!cpdctl dsjob create-project --name \"$IMPORT_PRJ_NAME\" "
   ]
  },
  {
   "cell_type": "code",
   "execution_count": 26,
   "id": "a970aaac-0867-4c38-bd6a-58730f94d733",
   "metadata": {},
   "outputs": [
    {
     "name": "stdout",
     "output_type": "stream",
     "text": [
      "...\n",
      "2024-06-03 21:51:43: Waiting until import finishes, import id: c8be1508-dded-4be9-b75f-bd0452408f90\n",
      "2024-06-03 21:51:54: Project import status: started,  total: 8, completed: 1, failed: 0, skipped: 3.\n",
      "2024-06-03 21:52:14: Project import status: started,  total: 8, completed: 3, failed: 0, skipped: 4.\n",
      "2024-06-03 21:52:35: Project import status: completed,  total: 8, completed: 4, failed: 0, skipped: 4.\n",
      "Information:\n",
      "\tConnection: Data Virtualization,\t  New connection is exactly the same as an existing connection, resource is not updated.\n",
      "\n",
      "\tConnection: Data Warehouse,\t  New connection is exactly the same as an existing connection, resource is not updated.\n",
      "\n",
      "\tParameter Set: JB_parameter_set,\t  New parameters are identical to those in the existing parameter set `JB_parameter_set`, flow is updated to reference `JB_parameter_set`.\n",
      "\n",
      "\tParameter Set: paraset2,\t  New parameters are identical to those in the existing parameter set `paraset2`, flow is updated to reference `paraset2`.\n",
      "\n",
      "\n",
      "Status code =  0\n"
     ]
    }
   ],
   "source": [
    "!cpdctl dsjob import-zip --project \"$IMPORT_PRJ_NAME\" --file-name \"$EXPORT_ZIP_NAME\" --conflict-resolution replace --wait 200 "
   ]
  },
  {
   "cell_type": "markdown",
   "id": "85d87405-4c8b-4350-9f25-4068728a77c5",
   "metadata": {},
   "source": [
    "## Method 2: Use **\"export\"** and **\"import\"** command -- <span style=\"color:red\">Not recommend<span>\n",
    "There is a known issue that it will miss some connections. We are working with IBM support to solve it. Current workaround is to recreate connections manually after importing to a new project."
   ]
  },
  {
   "cell_type": "code",
   "execution_count": 14,
   "id": "4789d39d-a8f9-4e4c-91b1-b115668cd899",
   "metadata": {},
   "outputs": [
    {
     "name": "stdout",
     "output_type": "stream",
     "text": [
      "...\n",
      "pending\n",
      "pending\n",
      "pending\n",
      "running\n",
      "running\n",
      "running\n",
      "running\n",
      "running\n",
      "completed\n",
      "\n",
      "Status code =  0\n"
     ]
    }
   ],
   "source": [
    "!cpdctl dsjob export --project \"$EXPORT_PRJ_NAME\" --name \"$EXPORT_PRJ_NAME\" --export-file \"$EXPORT_ZIP_NAME\" --wait -1"
   ]
  },
  {
   "cell_type": "code",
   "execution_count": 11,
   "id": "000f0b86-aa37-473c-a3cb-020cee641113",
   "metadata": {},
   "outputs": [
    {
     "name": "stdout",
     "output_type": "stream",
     "text": [
      "...\n",
      "\n",
      "Status code = 0\n"
     ]
    }
   ],
   "source": [
    "!cpdctl dsjob save-export --project \"$EXPORT_PRJ_NAME\" --name \"$EXPORT_PRJ_NAME\" --export-file \"$EXPORT_ZIP_NAME\""
   ]
  },
  {
   "cell_type": "markdown",
   "id": "5ac4b5c4-2977-4268-803f-f71345dd509f",
   "metadata": {},
   "source": [
    "### Import to a new project\n",
    "\n",
    "1. If the project to import exist, delete it\n",
    "2. Please note the project can't be deleted if the project has existing jobs"
   ]
  },
  {
   "cell_type": "code",
   "execution_count": 49,
   "id": "b9cad612-db90-41a4-811e-6f065b44b718",
   "metadata": {},
   "outputs": [],
   "source": [
    "def delete_all_jobs(prj_name):\n",
    "\n",
    "    import subprocess\n",
    "    \n",
    "    # Define the command to be run\n",
    "    command = f'cpdctl dsjob list-jobs --project \"{prj_name}\" --with-id --sched-info'\n",
    "    #print('command=',command)\n",
    "    #command = 'cpdctl dsjob list-job-status --project \"DataStage Import\"'\n",
    "    output = subprocess.run(command, capture_output=True, text=True, shell=True)\n",
    "    print(output.stdout)\n",
    "    \n",
    "    import re\n",
    "    # Regular expression to match job details\n",
    "    pattern = re.compile(r'^\\s*(.*?)\\s*\\|\\s*([0-9a-f-]+)\\s*\\|', re.MULTILINE)\n",
    "    # Find all matches\n",
    "    matches = pattern.findall(output.stdout)\n",
    "    # Extract job names\n",
    "    job_names = [match[0].strip() for match in matches]\n",
    "    # Remove the first '--------' entry if it exists\n",
    "    if '--------' in job_names:\n",
    "        job_names.remove('--------')\n",
    "    # Print the job names\n",
    "    print(\"Found Jobs:\\n\",job_names)\n",
    "    \n",
    "    for job_name in job_names: \n",
    "        !cpdctl dsjob delete-job --project \"$IMPORT_PRJ_NAME\"  --name \"$job_name\"\n",
    "        print(job_name, \"has been deleted\")"
   ]
  },
  {
   "cell_type": "code",
   "execution_count": 50,
   "id": "0bd02688-9651-4d50-a80e-781dd616940d",
   "metadata": {},
   "outputs": [
    {
     "name": "stdout",
     "output_type": "stream",
     "text": [
      "Return Code: 0\n",
      "Output: ...\n",
      "ID                                     Name               Created                    Description                                  Type\n",
      "866edac4-9c9b-48a7-bb4c-1f51b44e860a   DataStage Import   2024-06-04T00:50:51.126Z   This Project is created using dsjob plugin   cpd\n",
      "\n",
      "The project exists. Deleting project DataStage Import\n",
      "...\n",
      "Job Name                      |Job ID                              |Schedule Information\n",
      "--------                      |------                              |--------------------\n",
      "Employee Ranking.DataStage job|4f139c64-c23a-4279-a423-e0f37a9f4469|\n",
      "\n",
      "Total: 1 Jobs\n",
      "\n",
      "Status code = 0\n",
      "\n",
      "Found Jobs:\n",
      " ['Employee Ranking.DataStage job']\n",
      "...\n",
      "Deleted Job:  Employee Ranking.DataStage job\n",
      "\n",
      "Status code =  0\n",
      "Employee Ranking.DataStage job has been deleted\n",
      "...\n",
      "{\n",
      "    \"StatusCode\": 204,\n",
      "    \"Headers\": {\n",
      "        \"Date\": [\n",
      "            \"Tue, 04 Jun 2024 01:05:58 GMT\"\n",
      "        ],\n",
      "        \"Server\": [\n",
      "            \"---\"\n",
      "        ],\n",
      "        \"Set-Cookie\": [\n",
      "            \"2ac1df5a53d05af1ed3c0e46006c8757=ed299631e164ada293225cdde86bc3c3; path=/; HttpOnly; Secure; SameSite=Lax\"\n",
      "        ],\n",
      "        \"Strict-Transport-Security\": [\n",
      "            \"max-age=31536000; includeSubDomains\",\n",
      "            \"max-age=31536000; includeSubDomains\"\n",
      "        ],\n",
      "        \"X-Frame-Options\": [\n",
      "            \"SAMEORIGIN\"\n",
      "        ]\n",
      "    },\n",
      "    \"Result\": null,\n",
      "    \"RawResult\": null\n",
      "}\n",
      "\n"
     ]
    }
   ],
   "source": [
    "# delete an existing project\n",
    "import subprocess\n",
    "\n",
    "# Execute the command\n",
    "command = f'cpdctl project list --name \"{IMPORT_PRJ_NAME}\" --match exact'\n",
    "result = subprocess.run(command, shell=True, capture_output=True, text=True)\n",
    "\n",
    "# Capture the return code and output\n",
    "return_code = result.returncode\n",
    "output = result.stdout\n",
    "\n",
    "# Print the return code and output\n",
    "print(\"Return Code:\", return_code)\n",
    "print(\"Output:\", output)\n",
    "\n",
    "# Check if the output contains \"Nothing to show\"\n",
    "if \"Nothing to show\" in output:\n",
    "    print(\"The project does not exist or there was an error.\")\n",
    "\n",
    "else:\n",
    "    print(\"The project exists. Deleting project\",IMPORT_PRJ_NAME)\n",
    "    delete_all_jobs(IMPORT_PRJ_NAME)\n",
    "    # if exist delete project\n",
    "    !cpdctl dsjob delete-project --project \"$IMPORT_PRJ_NAME\"\n"
   ]
  },
  {
   "cell_type": "code",
   "execution_count": 51,
   "id": "6fd3cdc2-bd83-445d-9707-c5211e8e804c",
   "metadata": {},
   "outputs": [
    {
     "name": "stdout",
     "output_type": "stream",
     "text": [
      "d0c4a78e-bfe4-40e2-b7cd-04c2a39325ea\n"
     ]
    }
   ],
   "source": [
    "# Create prj\n",
    "!cpdctl dsjob create-project --name \"$IMPORT_PRJ_NAME\" "
   ]
  },
  {
   "cell_type": "code",
   "execution_count": 52,
   "id": "4ad90a2c-7bd6-4689-bfa0-27fc6022904d",
   "metadata": {},
   "outputs": [
    {
     "name": "stdout",
     "output_type": "stream",
     "text": [
      "...\n",
      "\n",
      "ID: 9cf56e46-997b-495b-8cd9-44e51783d65b\n",
      "running\n",
      "completed\n",
      "\n",
      "Status code =  0\n"
     ]
    }
   ],
   "source": [
    "!cpdctl dsjob import --project \"$IMPORT_PRJ_NAME\" --import-file \"$EXPORT_ZIP_NAME\" --wait -1"
   ]
  },
  {
   "cell_type": "markdown",
   "id": "8c8ee06a-9593-4e1c-b541-0822a48c7af5",
   "metadata": {},
   "source": [
    "## Method 3: Use **export-project** and **import-zip** command -- <span style=\"color:red\">Not recommend<span>\n",
    "There is a known issue that it will miss some connections. We are working with IBM support to solve it. Current workaround is to recreate connections manually after importing to a new project."
   ]
  },
  {
   "cell_type": "code",
   "execution_count": 16,
   "id": "7fbf5365-50db-41b7-956d-f2c0a894a426",
   "metadata": {},
   "outputs": [
    {
     "name": "stdout",
     "output_type": "stream",
     "text": [
      "...\n",
      "2024-06-03 21:15:30: Waiting until export finishes, Status: started\n",
      "2024-06-03 21:15:41: Project export status: completed, total: 5, completed: 5, failed: 0, skipped: 0.\n",
      "\n",
      "Status code =  0\n"
     ]
    }
   ],
   "source": [
    "!cpdctl dsjob export-project --project \"$EXPORT_PRJ_NAME\" --file-name \"$EXPORT_ZIP_NAME\" --wait -1"
   ]
  },
  {
   "cell_type": "code",
   "execution_count": 17,
   "id": "a2cd5742-befe-40a1-b5cc-99d4e8267fd8",
   "metadata": {},
   "outputs": [
    {
     "name": "stdout",
     "output_type": "stream",
     "text": [
      "\u001b[31;1mFAILED\u001b[0m\n",
      "Error creating the  project.:\n",
      "Bad Request\n",
      "\n"
     ]
    }
   ],
   "source": [
    "#only when project doesn't exist, create project\n",
    "!cpdctl dsjob create-project --name \"$IMPORT_PRJ_NAME\" "
   ]
  },
  {
   "cell_type": "code",
   "execution_count": null,
   "id": "2bd7400c-63d5-4fa3-befa-c32b401934fa",
   "metadata": {},
   "outputs": [
    {
     "name": "stdout",
     "output_type": "stream",
     "text": [
      "...\n",
      "2024-06-03 21:15:48: Waiting until import finishes, import id: 3f5c31dd-da30-4817-a03f-63089524dd34\n",
      "2024-06-03 21:15:59: Project import status: started,  total: 5, completed: 1, failed: 0, skipped: 2.\n"
     ]
    }
   ],
   "source": [
    "!cpdctl dsjob import-zip --project \"$IMPORT_PRJ_NAME\" --file-name \"$EXPORT_ZIP_NAME\" --conflict-resolution replace --wait 200 "
   ]
  }
 ],
 "metadata": {
  "kernelspec": {
   "display_name": "Python 3 (ipykernel)",
   "language": "python",
   "name": "python3"
  },
  "language_info": {
   "codemirror_mode": {
    "name": "ipython",
    "version": 3
   },
   "file_extension": ".py",
   "mimetype": "text/x-python",
   "name": "python",
   "nbconvert_exporter": "python",
   "pygments_lexer": "ipython3",
   "version": "3.10.11"
  }
 },
 "nbformat": 4,
 "nbformat_minor": 5
}
