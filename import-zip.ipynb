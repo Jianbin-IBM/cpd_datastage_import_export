{
 "cells": [
  {
   "cell_type": "markdown",
   "id": "4fd2c050-c9bc-4a18-b3e3-337dfb8b2de6",
   "metadata": {},
   "source": [
    "# Demo Code:  \"import-zip\" a zip file to a project\n",
    "\n",
    "\"import-zip\" can be used to import any zip file exported from \"export-xxx\" but not \"export\"\n",
    "\n",
    "## Process\n",
    "1. Create your own yaml based on [configuration_template.yaml](./configuration_template.yaml), and modify \"CONFIG_FILE\" below.\n",
    "2. Create a project. If the project exists, creation will fail and the zip file will added to the existing project.\n",
    "3. Import specified zip file to a project\n"
   ]
  },
  {
   "cell_type": "code",
   "execution_count": 1,
   "id": "4864c7a6-e5da-40e0-88ad-49af13dd7cac",
   "metadata": {},
   "outputs": [],
   "source": [
    "import sys\n",
    "import os\n",
    "import yaml\n",
    "import subprocess"
   ]
  },
  {
   "cell_type": "code",
   "execution_count": 2,
   "id": "7148aa19-87b9-49a5-bf91-d2cfea6d7e06",
   "metadata": {},
   "outputs": [],
   "source": [
    "# point to a local file with credentials. It is not synced to git.\n",
    "CONFIG_FILE = \"cpd484_jb_import.yaml\""
   ]
  },
  {
   "cell_type": "code",
   "execution_count": 3,
   "id": "2cf25cf3-9e26-4b96-8dd7-4ae69daf0c40",
   "metadata": {},
   "outputs": [],
   "source": [
    "# Load parameters from the YAML file\n",
    "with open(CONFIG_FILE, 'r') as file:\n",
    "    config = yaml.safe_load(file)\n",
    "\n",
    "DSJOB_URL = config['url']\n",
    "DSJOB_USER = config['user']\n",
    "DSJOB_PWD = config['password']\n",
    "EXPORT_PRJ_NAME = config['export_prj_name']\n",
    "if \"export_zip_name\" in config:\n",
    "    EXPORT_ZIP_NAME = config['export_zip_name']\n",
    "else:\n",
    "    EXPORT_ZIP_NAME = EXPORT_PRJ_NAME+\"_ds_wp_prj.zip\"\n",
    "    \n",
    "IMPORT_PRJ_NAME = config['import_prj_name']"
   ]
  },
  {
   "cell_type": "code",
   "execution_count": 4,
   "id": "d636aa62-b312-4682-99c1-68cebf1cfdc3",
   "metadata": {},
   "outputs": [
    {
     "name": "stdout",
     "output_type": "stream",
     "text": [
      "env: CPDCTL_ENABLE_DSJOB=true\n",
      "env: CPDCTL_ENABLE_DATASTAGE=true\n",
      "env: CPDCTL_ENABLE_VOLUMES=1\n",
      "true\n",
      "true\n",
      "1\n"
     ]
    }
   ],
   "source": [
    "# Enable dsjob\n",
    "%env CPDCTL_ENABLE_DSJOB=true\n",
    "%env CPDCTL_ENABLE_DATASTAGE=true\n",
    "%env CPDCTL_ENABLE_VOLUMES=1\n",
    "!echo $CPDCTL_ENABLE_DSJOB\n",
    "!echo $CPDCTL_ENABLE_DATASTAGE\n",
    "!echo $CPDCTL_ENABLE_VOLUMES"
   ]
  },
  {
   "cell_type": "code",
   "execution_count": 5,
   "id": "452f21f2-6fb8-4fe6-b787-5507fad1d4b9",
   "metadata": {},
   "outputs": [
    {
     "name": "stdout",
     "output_type": "stream",
     "text": [
      "Switched to profile \"CP4D-profile\".\n"
     ]
    }
   ],
   "source": [
    "# Configure cpdctl with the parameters\n",
    "!cpdctl config user set CP4D-user --username \"$DSJOB_USER\" --password \"$DSJOB_PWD\"\n",
    "!cpdctl config profile set CP4D-profile --url \"$DSJOB_URL\" --user CP4D-user\n",
    "!cpdctl config profile use CP4D-profile"
   ]
  },
  {
   "cell_type": "code",
   "execution_count": 6,
   "id": "7e73c4c1-41cf-4980-b461-6b1b19aaab49",
   "metadata": {},
   "outputs": [
    {
     "name": "stdout",
     "output_type": "stream",
     "text": [
      "...\n",
      "Business Catalog Enrichment\n",
      "DataStage Import\n",
      "GDPR Lineage\n",
      "test_python_pipeline\n",
      "DQ Definition_Rules\n",
      "Multicloud Data Integration L3 Tech Lab\n",
      "Data Replication Lab\n",
      "Auto Policy Risk\n",
      "evaluate-an-ml-model\n",
      "Data-Science-and-MLOps\n",
      "\n",
      "Total: 10 Projects\n",
      "\n",
      "Status code = 0\n"
     ]
    }
   ],
   "source": [
    "# list all projects\n",
    "!cpdctl dsjob list-projects"
   ]
  },
  {
   "cell_type": "code",
   "execution_count": 9,
   "id": "4bd2e6b8-70b6-4e1c-92a6-b3ab2899cc2d",
   "metadata": {},
   "outputs": [
    {
     "name": "stdout",
     "output_type": "stream",
     "text": [
      "38afd250-99c1-4a90-a76f-6dd17898da5a\n"
     ]
    }
   ],
   "source": [
    "# Create prj, if exist, it will generate error, but doesn't matter\n",
    "!cpdctl dsjob create-project --name \"$IMPORT_PRJ_NAME\" "
   ]
  },
  {
   "cell_type": "code",
   "execution_count": 10,
   "id": "fd365f56-e420-4291-a6e0-14c134c5e266",
   "metadata": {},
   "outputs": [
    {
     "name": "stdout",
     "output_type": "stream",
     "text": [
      "...\n",
      "2024-06-01 15:06:26: Waiting until import finishes, import id: 17050b88-05d0-4d34-83fd-30f726de4cbf\n",
      "2024-06-01 15:06:37: Project import status: started,  total: 7, completed: 5, failed: 0, skipped: 0.\n",
      "2024-06-01 15:07:00: Project import status: completed,  total: 7, completed: 7, failed: 0, skipped: 0.\n",
      "\n",
      "Status code =  0\n"
     ]
    }
   ],
   "source": [
    "# import\n",
    "\n",
    "!cpdctl dsjob import-zip --project \"$IMPORT_PRJ_NAME\" --file-name \"$EXPORT_ZIP_NAME\" --conflict-resolution replace --wait 200 "
   ]
  },
  {
   "cell_type": "code",
   "execution_count": null,
   "id": "ecf67278-6f0d-432f-ba8b-729ab843f387",
   "metadata": {},
   "outputs": [],
   "source": []
  }
 ],
 "metadata": {
  "kernelspec": {
   "display_name": "Python 3 (ipykernel)",
   "language": "python",
   "name": "python3"
  },
  "language_info": {
   "codemirror_mode": {
    "name": "ipython",
    "version": 3
   },
   "file_extension": ".py",
   "mimetype": "text/x-python",
   "name": "python",
   "nbconvert_exporter": "python",
   "pygments_lexer": "ipython3",
   "version": "3.10.11"
  }
 },
 "nbformat": 4,
 "nbformat_minor": 5
}
