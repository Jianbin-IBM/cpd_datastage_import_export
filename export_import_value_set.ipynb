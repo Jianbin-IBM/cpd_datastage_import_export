{
 "cells": [
  {
   "cell_type": "markdown",
   "id": "439c097b-16f1-431e-9ac2-5979e23bbe50",
   "metadata": {},
   "source": [
    "# Demo Code: Export&Import Value Set\n",
    "\n",
    "## Prerequisite\n",
    "Create your own yaml file based on [configuration_template.yaml](./configuration_template.yaml), and modify \"CONFIG_FILE\" below\n"
   ]
  },
  {
   "cell_type": "code",
   "execution_count": 20,
   "id": "b381f4e2-d16e-4c25-8e6e-f43df60b67e5",
   "metadata": {},
   "outputs": [],
   "source": [
    "import sys\n",
    "import os\n",
    "import yaml\n",
    "import subprocess"
   ]
  },
  {
   "cell_type": "code",
   "execution_count": 10,
   "id": "4a30d92c-2689-4ebe-b298-409992987021",
   "metadata": {},
   "outputs": [],
   "source": [
    "# point to a local file with credentials. It is not synced to git.\n",
    "CONFIG_FILE = \"export_import_value_set.yaml\""
   ]
  },
  {
   "cell_type": "code",
   "execution_count": 11,
   "id": "d3bfc677-283b-4f05-9bec-7434e36628b7",
   "metadata": {},
   "outputs": [
    {
     "name": "stdout",
     "output_type": "stream",
     "text": [
      "EXPORT_PRJ_NAME= Multicloud Data Integration L3 Tech Lab\n",
      "IMPORT_PRJ_NAME= DataStage Import\n"
     ]
    }
   ],
   "source": [
    "# Load parameters from the YAML file\n",
    "with open(CONFIG_FILE, 'r') as file:\n",
    "    config = yaml.safe_load(file)\n",
    "\n",
    "# print(config)\n",
    "DSJOB_URL = config['url']\n",
    "DSJOB_USER = config['user']\n",
    "DSJOB_PWD = config['password']\n",
    "EXPORT_PRJ_NAME = config['export_prj_name']\n",
    "if \"export_zip_name\" in config:\n",
    "    EXPORT_ZIP_NAME = config['export_zip_name']\n",
    "else:\n",
    "    EXPORT_ZIP_NAME = EXPORT_PRJ_NAME+\"_ds_wp_prj.zip\"\n",
    "\n",
    "parameter_sets = config['parameter_sets']\n",
    "\n",
    "IMPORT_PRJ_NAME = config['import_prj_name']\n",
    "print(\"EXPORT_PRJ_NAME=\",EXPORT_PRJ_NAME)\n",
    "print(\"IMPORT_PRJ_NAME=\",IMPORT_PRJ_NAME)"
   ]
  },
  {
   "cell_type": "code",
   "execution_count": 12,
   "id": "d77aef7b-d806-49e3-8b21-643b97eefd9f",
   "metadata": {},
   "outputs": [
    {
     "name": "stdout",
     "output_type": "stream",
     "text": [
      "env: CPDCTL_ENABLE_DSJOB=true\n",
      "env: CPDCTL_ENABLE_DATASTAGE=true\n",
      "env: CPDCTL_ENABLE_VOLUMES=1\n"
     ]
    }
   ],
   "source": [
    "# Enable dsjob\n",
    "%env CPDCTL_ENABLE_DSJOB=true\n",
    "%env CPDCTL_ENABLE_DATASTAGE=true\n",
    "%env CPDCTL_ENABLE_VOLUMES=1"
   ]
  },
  {
   "cell_type": "code",
   "execution_count": 13,
   "id": "bc648f3b-b5c1-44bd-b0eb-617dbd021884",
   "metadata": {},
   "outputs": [
    {
     "name": "stdout",
     "output_type": "stream",
     "text": [
      "Switched to profile \"CP4D-profile\".\n"
     ]
    }
   ],
   "source": [
    "# Configure cpdctl with the parameters\n",
    "!cpdctl config user set CP4D-user --username \"$DSJOB_USER\" --password \"$DSJOB_PWD\"\n",
    "!cpdctl config profile set CP4D-profile --url \"$DSJOB_URL\" --user CP4D-user\n",
    "!cpdctl config profile use CP4D-profile"
   ]
  },
  {
   "cell_type": "markdown",
   "id": "6ddee002-a9c7-4f1d-a599-6bce5eaac229",
   "metadata": {},
   "source": [
    "### **get-paramset-valueset**  will export specified value set undes specific parameter set with a JSON file"
   ]
  },
  {
   "cell_type": "code",
   "execution_count": 14,
   "id": "22e39379-4ada-4439-b549-401ca5c20d33",
   "metadata": {},
   "outputs": [
    {
     "name": "stdout",
     "output_type": "stream",
     "text": [
      "...\n",
      "\n",
      "Status code = 0\n",
      "{\n",
      "    \"name\": \"value_set1\",\n",
      "    \"values\": [\n",
      "        {\n",
      "            \"name\": \"$APT_AGGREGATOR_NULLABLE_OUTPUT\",\n",
      "            \"value\": \"True\"\n",
      "        },\n",
      "        {\n",
      "            \"name\": \"JB_para1\",\n",
      "            \"value\": \"hello\"\n",
      "        }\n",
      "    ]\n",
      "}"
     ]
    }
   ],
   "source": [
    "# Only one parameter set and value set are supported\n",
    "!cpdctl dsjob get-paramset-valueset --project \"$EXPORT_PRJ_NAME\" --paramset \"JB_parameter_set\" --name \"value_set1\" --output file --file-name \"value_set1.json\"\n",
    "!cat \"value_set1.json\""
   ]
  },
  {
   "cell_type": "code",
   "execution_count": 21,
   "id": "9acf1ca9-e62e-413d-b668-38809c545003",
   "metadata": {},
   "outputs": [
    {
     "name": "stdout",
     "output_type": "stream",
     "text": [
      "...\n",
      "ValueSet Deleted from Paramset ID:  6c546320-504c-422b-831b-a8531a2e8fe2\n",
      "\n",
      "Status code = 0\n"
     ]
    }
   ],
   "source": [
    "# [optional] delete valueset\n",
    "!cpdctl dsjob delete-paramset-valueset --project \"$IMPORT_PRJ_NAME\" --paramset \"JB_parameter_set\" --name \"value_set1\""
   ]
  },
  {
   "cell_type": "code",
   "execution_count": null,
   "id": "a783e887-ef37-4f0a-9153-ce592f82351a",
   "metadata": {},
   "outputs": [
    {
     "name": "stdout",
     "output_type": "stream",
     "text": [
      "...\n"
     ]
    }
   ],
   "source": [
    "# If ValueSet doesn't exist, we create\n",
    "!cpdctl dsjob create-paramset-valueset --project \"$IMPORT_PRJ_NAME\" --paramset \"JB_parameter_set\" --name \"value_set1\" --file-name \"value_set1.json\""
   ]
  },
  {
   "cell_type": "code",
   "execution_count": null,
   "id": "9c09c463-6fb1-486c-8738-f917b25c7077",
   "metadata": {},
   "outputs": [],
   "source": [
    "# Update a value set\n",
    "!cpdctl dsjob update-paramset-valueset --project \"$IMPORT_PRJ_NAME\" --paramset \"JB_parameter_set\" --name \"value_set1\" --file-name \"value_set1.json\""
   ]
  },
  {
   "cell_type": "code",
   "execution_count": null,
   "id": "ff2b8d02-536a-4930-869e-d861f3a5c8a7",
   "metadata": {},
   "outputs": [],
   "source": []
  }
 ],
 "metadata": {
  "kernelspec": {
   "display_name": "Python 3 (ipykernel)",
   "language": "python",
   "name": "python3"
  },
  "language_info": {
   "codemirror_mode": {
    "name": "ipython",
    "version": 3
   },
   "file_extension": ".py",
   "mimetype": "text/x-python",
   "name": "python",
   "nbconvert_exporter": "python",
   "pygments_lexer": "ipython3",
   "version": "3.10.11"
  }
 },
 "nbformat": 4,
 "nbformat_minor": 5
}
