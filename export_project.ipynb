{
 "cells": [
  {
   "cell_type": "code",
   "execution_count": null,
   "id": "75d43f24-a1f2-4c6b-85b9-a3397387a766",
   "metadata": {},
   "outputs": [],
   "source": [
    "import sys\n",
    "import os\n",
    "import yaml\n",
    "import subprocess\n",
    "\n",
    "# Function to run shell commands\n",
    "def run_command(command):\n",
    "    result = subprocess.run(command, shell=True, capture_output=True, text=True)\n",
    "    if result.returncode != 0:\n",
    "        print(f\"Error running command: {command}\")\n",
    "        print(result.stderr)\n",
    "        sys.exit(1)\n",
    "    return result.stdout.strip()\n",
    "\n",
    "# Check if the config file parameter is provided\n",
    "if len(sys.argv) != 2:\n",
    "    print(\"Usage: python script.py <config.yaml>\")\n",
    "    sys.exit(1)\n",
    "\n",
    "# Load the config file from the input parameter\n",
    "CONFIG_FILE = sys.argv[1]\n",
    "\n",
    "# Check if the config file exists\n",
    "if not os.path.isfile(CONFIG_FILE):\n",
    "    print(f\"Config file not found: {CONFIG_FILE}\")\n",
    "    sys.exit(1)\n",
    "\n",
    "# Enable dsjob\n",
    "os.environ[\"CPDCTL_ENABLE_DSJOB\"] = \"TRUE\"\n",
    "os.environ[\"CPDCTL_ENABLE_DATASTAGE\"] = \"TRUE\"\n",
    "os.environ[\"CPDCTL_ENABLE_VOLUMES\"] = \"1\"\n",
    "\n",
    "# Load parameters from the YAML file\n",
    "with open(CONFIG_FILE, 'r') as file:\n",
    "    config = yaml.safe_load(file)\n",
    "\n",
    "DSJOB_URL = config['url']\n",
    "DSJOB_USER = config['user']\n",
    "DSJOB_PWD = config['password']\n",
    "PRJ_NAME = config['project_name']\n",
    "\n",
    "# Export the variables\n",
    "os.environ[\"DSJOB_URL\"] = DSJOB_URL\n",
    "os.environ[\"DSJOB_USER\"] = DSJOB_USER\n",
    "os.environ[\"DSJOB_PWD\"] = DSJOB_PWD\n",
    "\n",
    "# Configure cpdctl with the parameters\n",
    "run_command(f'cpdctl config user set CP4D-user --username \"{DSJOB_USER}\" --password \"{DSJOB_PWD}\"')\n",
    "run_command(f'cpdctl config profile set CP4D-profile --url \"{DSJOB_URL}\" --user CP4D-user')\n",
    "run_command('cpdctl config profile use CP4D-profile')\n",
    "\n",
    "# List all projects\n",
    "run_command('cpdctl dsjob list-projects')\n",
    "\n",
    "# Print the project name\n",
    "print(PRJ_NAME)\n",
    "FILENAME = f\"{PRJ_NAME}.zip\"\n",
    "print(FILENAME)\n",
    "\n",
    "# Export the project\n",
    "run_command(f'cpdctl dsjob export --project-id a6522d00-be51-48f5-bf66-7a53b04d064d --name \"{PRJ_NAME}\" --export-file {FILENAME} --wait -1')\n",
    "\n",
    "# Save the export\n",
    "run_command(f'cpdctl dsjob save-export --project-id a6522d00-be51-48f5-bf66-7a53b04d064d --name \"{PRJ_NAME}\" --export-file {FILENAME}')\n"
   ]
  },
  {
   "cell_type": "code",
   "execution_count": 1,
   "id": "d261daa0-0efe-45c4-a59f-6b184df6131f",
   "metadata": {},
   "outputs": [],
   "source": [
    "import sys\n",
    "import os\n",
    "import yaml\n",
    "import subprocess\n",
    "\n",
    "# Function to run shell commands\n",
    "def run_command(command):\n",
    "    result = subprocess.run(command, shell=True, capture_output=True, text=True)\n",
    "    if result.returncode != 0:\n",
    "        print(f\"Error running command: {command}\")\n",
    "        print(result.stderr)\n",
    "        sys.exit(1)\n",
    "    return result.stdout.strip()"
   ]
  },
  {
   "cell_type": "code",
   "execution_count": 2,
   "id": "9fd547f4-88b4-48b2-b8b2-d25f724763e1",
   "metadata": {},
   "outputs": [],
   "source": [
    "CONFIG_FILE = \"cpd484_jb.yaml\""
   ]
  },
  {
   "cell_type": "code",
   "execution_count": 3,
   "id": "d3bfc677-283b-4f05-9bec-7434e36628b7",
   "metadata": {},
   "outputs": [],
   "source": [
    "# Load parameters from the YAML file\n",
    "with open(CONFIG_FILE, 'r') as file:\n",
    "    config = yaml.safe_load(file)\n",
    "\n",
    "DSJOB_URL = config['url']\n",
    "DSJOB_USER = config['user']\n",
    "DSJOB_PWD = config['password']\n",
    "PRJ_NAME = config['project_name']"
   ]
  },
  {
   "cell_type": "code",
   "execution_count": 7,
   "id": "d77aef7b-d806-49e3-8b21-643b97eefd9f",
   "metadata": {},
   "outputs": [
    {
     "name": "stdout",
     "output_type": "stream",
     "text": [
      "env: CPDCTL_ENABLE_DSJOB=true\n",
      "env: CPDCTL_ENABLE_DATASTAGE=true\n",
      "env: CPDCTL_ENABLE_VOLUMES=1\n",
      "true\n",
      "true\n",
      "1\n"
     ]
    }
   ],
   "source": [
    "# Enable dsjob\n",
    "%env CPDCTL_ENABLE_DSJOB=true\n",
    "%env CPDCTL_ENABLE_DATASTAGE=true\n",
    "%env CPDCTL_ENABLE_VOLUMES=1\n",
    "!echo $CPDCTL_ENABLE_DSJOB\n",
    "!echo $CPDCTL_ENABLE_DATASTAGE\n",
    "!echo $CPDCTL_ENABLE_VOLUMES"
   ]
  },
  {
   "cell_type": "code",
   "execution_count": 5,
   "id": "bc648f3b-b5c1-44bd-b0eb-617dbd021884",
   "metadata": {},
   "outputs": [
    {
     "name": "stdout",
     "output_type": "stream",
     "text": [
      "Switched to profile \"CP4D-profile\".\n"
     ]
    }
   ],
   "source": [
    "# Configure cpdctl with the parameters\n",
    "!cpdctl config user set CP4D-user --username \"$DSJOB_USER\" --password \"$DSJOB_PWD\"\n",
    "!cpdctl config profile set CP4D-profile --url \"$DSJOB_URL\" --user CP4D-user\n",
    "!cpdctl config profile use CP4D-profile"
   ]
  },
  {
   "cell_type": "code",
   "execution_count": 8,
   "id": "787bbb36-6c76-43f7-a0d5-873053a58b58",
   "metadata": {},
   "outputs": [
    {
     "name": "stdout",
     "output_type": "stream",
     "text": [
      "...\n",
      "Business Catalog Enrichment\n",
      "GDPR Lineage\n",
      "test_python_pipeline\n",
      "DQ Definition_Rules\n",
      "Multicloud Data Integration L3 Tech Lab\n",
      "Data Replication Lab\n",
      "Auto Policy Risk\n",
      "evaluate-an-ml-model\n",
      "Data-Science-and-MLOps\n",
      "\n",
      "Total: 9 Projects\n",
      "\n",
      "Status code = 0\n"
     ]
    }
   ],
   "source": [
    "# list all projects\n",
    "!cpdctl dsjob list-projects"
   ]
  },
  {
   "cell_type": "code",
   "execution_count": 9,
   "id": "447ed99b-4b21-4985-9ba0-3871da9d3c70",
   "metadata": {},
   "outputs": [
    {
     "name": "stdout",
     "output_type": "stream",
     "text": [
      "...\n",
      "pending\n",
      "pending\n",
      "pending\n",
      "running\n",
      "running\n",
      "running\n",
      "running\n",
      "completed\n",
      "\n",
      "Status code =  0\n"
     ]
    }
   ],
   "source": [
    "# Multicloud Data Integration L3 Tech Lab\n",
    "!cpdctl dsjob export --project \"Multicloud Data Integration L3 Tech Lab\" --name \"Multicloud Data Integration L3 Tech Lab\" --export-file \"Multicloud Data Integration L3 Tech Lab.zip\" --wait -1"
   ]
  },
  {
   "cell_type": "code",
   "execution_count": 11,
   "id": "b3483760-6561-4f5b-9cb8-a2ff88461517",
   "metadata": {},
   "outputs": [
    {
     "name": "stdout",
     "output_type": "stream",
     "text": [
      "...\n",
      "\n",
      "Status code = 0\n"
     ]
    }
   ],
   "source": [
    "!cpdctl dsjob save-export --project \"Multicloud Data Integration L3 Tech Lab\" --name \"Multicloud Data Integration L3 Tech Lab\" --export-file --project \"Multicloud Data Integration L3 Tech Lab.zip\""
   ]
  },
  {
   "cell_type": "code",
   "execution_count": 12,
   "id": "0bd02688-9651-4d50-a80e-781dd616940d",
   "metadata": {},
   "outputs": [
    {
     "name": "stdout",
     "output_type": "stream",
     "text": [
      "--project\n",
      "LICENSE\n",
      "Multicloud\n",
      "\u001b[34mMulticloud 2\u001b[m\u001b[m/\n",
      "Multicloud Data Integration L3 Tech Lab.zip\n",
      "Multicloud.zip\n",
      "Untitled.ipynb\n",
      "configuration_template.yaml\n",
      "cpd484_jb.yaml\n",
      "export_project.py\n",
      "export_project.sh\n"
     ]
    }
   ],
   "source": [
    "ls"
   ]
  },
  {
   "cell_type": "code",
   "execution_count": null,
   "id": "6fd3cdc2-bd83-445d-9707-c5211e8e804c",
   "metadata": {},
   "outputs": [],
   "source": []
  }
 ],
 "metadata": {
  "kernelspec": {
   "display_name": "Python 3 (ipykernel)",
   "language": "python",
   "name": "python3"
  },
  "language_info": {
   "codemirror_mode": {
    "name": "ipython",
    "version": 3
   },
   "file_extension": ".py",
   "mimetype": "text/x-python",
   "name": "python",
   "nbconvert_exporter": "python",
   "pygments_lexer": "ipython3",
   "version": "3.10.11"
  }
 },
 "nbformat": 4,
 "nbformat_minor": 5
}
