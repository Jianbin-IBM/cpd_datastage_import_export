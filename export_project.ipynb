{
 "cells": [
  {
   "cell_type": "code",
   "execution_count": 2,
   "id": "9fd547f4-88b4-48b2-b8b2-d25f724763e1",
   "metadata": {},
   "outputs": [],
   "source": [
    "# point to a local file with credentials. It is not synced to git.\n",
    "CONFIG_FILE = \"cpd484_jb.yaml\""
   ]
  },
  {
   "cell_type": "code",
   "execution_count": 3,
   "id": "d3bfc677-283b-4f05-9bec-7434e36628b7",
   "metadata": {},
   "outputs": [],
   "source": [
    "# Load parameters from the YAML file\n",
    "with open(CONFIG_FILE, 'r') as file:\n",
    "    config = yaml.safe_load(file)\n",
    "\n",
    "DSJOB_URL = config['url']\n",
    "DSJOB_USER = config['user']\n",
    "DSJOB_PWD = config['password']\n",
    "PRJ_NAME = config['project_name']"
   ]
  },
  {
   "cell_type": "code",
   "execution_count": 7,
   "id": "d77aef7b-d806-49e3-8b21-643b97eefd9f",
   "metadata": {},
   "outputs": [
    {
     "name": "stdout",
     "output_type": "stream",
     "text": [
      "env: CPDCTL_ENABLE_DSJOB=true\n",
      "env: CPDCTL_ENABLE_DATASTAGE=true\n",
      "env: CPDCTL_ENABLE_VOLUMES=1\n",
      "true\n",
      "true\n",
      "1\n"
     ]
    }
   ],
   "source": [
    "# Enable dsjob\n",
    "%env CPDCTL_ENABLE_DSJOB=true\n",
    "%env CPDCTL_ENABLE_DATASTAGE=true\n",
    "%env CPDCTL_ENABLE_VOLUMES=1\n",
    "!echo $CPDCTL_ENABLE_DSJOB\n",
    "!echo $CPDCTL_ENABLE_DATASTAGE\n",
    "!echo $CPDCTL_ENABLE_VOLUMES"
   ]
  },
  {
   "cell_type": "code",
   "execution_count": 5,
   "id": "bc648f3b-b5c1-44bd-b0eb-617dbd021884",
   "metadata": {},
   "outputs": [
    {
     "name": "stdout",
     "output_type": "stream",
     "text": [
      "Switched to profile \"CP4D-profile\".\n"
     ]
    }
   ],
   "source": [
    "# Configure cpdctl with the parameters\n",
    "!cpdctl config user set CP4D-user --username \"$DSJOB_USER\" --password \"$DSJOB_PWD\"\n",
    "!cpdctl config profile set CP4D-profile --url \"$DSJOB_URL\" --user CP4D-user\n",
    "!cpdctl config profile use CP4D-profile"
   ]
  },
  {
   "cell_type": "code",
   "execution_count": 8,
   "id": "787bbb36-6c76-43f7-a0d5-873053a58b58",
   "metadata": {},
   "outputs": [
    {
     "name": "stdout",
     "output_type": "stream",
     "text": [
      "...\n",
      "Business Catalog Enrichment\n",
      "GDPR Lineage\n",
      "test_python_pipeline\n",
      "DQ Definition_Rules\n",
      "Multicloud Data Integration L3 Tech Lab\n",
      "Data Replication Lab\n",
      "Auto Policy Risk\n",
      "evaluate-an-ml-model\n",
      "Data-Science-and-MLOps\n",
      "\n",
      "Total: 9 Projects\n",
      "\n",
      "Status code = 0\n"
     ]
    }
   ],
   "source": [
    "# list all projects\n",
    "!cpdctl dsjob list-projects"
   ]
  },
  {
   "cell_type": "code",
   "execution_count": 9,
   "id": "447ed99b-4b21-4985-9ba0-3871da9d3c70",
   "metadata": {},
   "outputs": [
    {
     "name": "stdout",
     "output_type": "stream",
     "text": [
      "...\n",
      "pending\n",
      "pending\n",
      "pending\n",
      "running\n",
      "running\n",
      "running\n",
      "running\n",
      "completed\n",
      "\n",
      "Status code =  0\n"
     ]
    }
   ],
   "source": [
    "# Multicloud Data Integration L3 Tech Lab\n",
    "!cpdctl dsjob export --project \"Multicloud Data Integration L3 Tech Lab\" --name \"Multicloud Data Integration L3 Tech Lab\" --export-file \"Multicloud Data Integration L3 Tech Lab.zip\" --wait -1"
   ]
  },
  {
   "cell_type": "code",
   "execution_count": 11,
   "id": "b3483760-6561-4f5b-9cb8-a2ff88461517",
   "metadata": {},
   "outputs": [
    {
     "name": "stdout",
     "output_type": "stream",
     "text": [
      "...\n",
      "\n",
      "Status code = 0\n"
     ]
    }
   ],
   "source": [
    "!cpdctl dsjob save-export --project \"Multicloud Data Integration L3 Tech Lab\" --name \"Multicloud Data Integration L3 Tech Lab\" --export-file --project \"Multicloud Data Integration L3 Tech Lab.zip\""
   ]
  },
  {
   "cell_type": "code",
   "execution_count": 12,
   "id": "0bd02688-9651-4d50-a80e-781dd616940d",
   "metadata": {},
   "outputs": [
    {
     "name": "stdout",
     "output_type": "stream",
     "text": [
      "--project\n",
      "LICENSE\n",
      "Multicloud\n",
      "\u001b[34mMulticloud 2\u001b[m\u001b[m/\n",
      "Multicloud Data Integration L3 Tech Lab.zip\n",
      "Multicloud.zip\n",
      "Untitled.ipynb\n",
      "configuration_template.yaml\n",
      "cpd484_jb.yaml\n",
      "export_project.py\n",
      "export_project.sh\n"
     ]
    }
   ],
   "source": [
    "ls"
   ]
  },
  {
   "cell_type": "code",
   "execution_count": null,
   "id": "6fd3cdc2-bd83-445d-9707-c5211e8e804c",
   "metadata": {},
   "outputs": [],
   "source": []
  }
 ],
 "metadata": {
  "kernelspec": {
   "display_name": "Python 3 (ipykernel)",
   "language": "python",
   "name": "python3"
  },
  "language_info": {
   "codemirror_mode": {
    "name": "ipython",
    "version": 3
   },
   "file_extension": ".py",
   "mimetype": "text/x-python",
   "name": "python",
   "nbconvert_exporter": "python",
   "pygments_lexer": "ipython3",
   "version": "3.10.11"
  }
 },
 "nbformat": 4,
 "nbformat_minor": 5
}
